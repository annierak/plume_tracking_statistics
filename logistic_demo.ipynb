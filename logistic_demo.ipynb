{
 "cells": [
  {
   "cell_type": "code",
   "execution_count": 2,
   "metadata": {},
   "outputs": [
    {
     "data": {
      "application/vnd.jupyter.widget-view+json": {
       "model_id": "5141fd64ff124316bad579323b0cf3c0",
       "version_major": 2,
       "version_minor": 0
      },
      "text/plain": [
       "interactive(children=(FloatSlider(value=-1.0, description='K', max=1.0, min=-2.0, step=0.5), FloatSlider(value…"
      ]
     },
     "metadata": {},
     "output_type": "display_data"
    }
   ],
   "source": [
    "import numpy as np\n",
    "import matplotlib.pyplot as plt\n",
    "from ipywidgets import interactive\n",
    "\n",
    "def plot_general_logistic(K=-1.,x_0=3.,B=1.,v=0.5):\n",
    "    inputs = np.linspace(0,10,100)\n",
    "    Q=1.\n",
    "    outputs = -K+K/((1.+Q*np.exp(-B*(inputs-x_0))**(1./v)))\n",
    "    plt.figure()\n",
    "    plt.plot(inputs,outputs)\n",
    "    plt.xlim(0,10)\n",
    "    plt.ylim(0,3)\n",
    "    plt.show()\n",
    "interactive_plot = interactive(plot_general_logistic,\n",
    "                              K=(-2.,1.,0.5),x_0=(3.,6.,0.5),B=(1.,10.,1.),v=(0.1,1.,0.1))\n",
    "output=interactive_plot.children[-1]\n",
    "interactive_plot"
   ]
  },
  {
   "cell_type": "code",
   "execution_count": null,
   "metadata": {},
   "outputs": [],
   "source": []
  }
 ],
 "metadata": {
  "kernelspec": {
   "display_name": "be103",
   "language": "python",
   "name": "be103"
  },
  "language_info": {
   "codemirror_mode": {
    "name": "ipython",
    "version": 3
   },
   "file_extension": ".py",
   "mimetype": "text/x-python",
   "name": "python",
   "nbconvert_exporter": "python",
   "pygments_lexer": "ipython3",
   "version": "3.7.0"
  }
 },
 "nbformat": 4,
 "nbformat_minor": 2
}
